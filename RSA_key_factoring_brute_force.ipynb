{
  "nbformat": 4,
  "nbformat_minor": 0,
  "metadata": {
    "colab": {
      "name": "RSA_key_factoring_brute_force.ipynb",
      "provenance": [],
      "collapsed_sections": []
    },
    "kernelspec": {
      "name": "python3",
      "display_name": "Python 3"
    },
    "language_info": {
      "name": "python"
    }
  },
  "cells": [
    {
      "cell_type": "code",
      "execution_count": 1,
      "metadata": {
        "id": "Kmx_DOLi4fYu"
      },
      "outputs": [],
      "source": [
        "from math import ceil\n",
        "import time\n",
        "import pandas as pd\n",
        "import numpy as np\n",
        "import matplotlib.pyplot as plt"
      ]
    },
    {
      "cell_type": "code",
      "source": [
        "%matplotlib inline"
      ],
      "metadata": {
        "id": "WMrctXm47L2j"
      },
      "execution_count": 2,
      "outputs": []
    },
    {
      "cell_type": "markdown",
      "source": [
        "We want to factor an RSA public key component (n) into two prime numbers (p, q)."
      ],
      "metadata": {
        "id": "0a4blgPu4xbB"
      }
    },
    {
      "cell_type": "code",
      "source": [
        "def RSA_factor(n):\n",
        "    p = 0\n",
        "    q = 0\n",
        "    for x in range(2, ceil(n/2)):\n",
        "        if n % x == 0:\n",
        "            p = n // x\n",
        "            q = x\n",
        "            break\n",
        "    return p, q"
      ],
      "metadata": {
        "id": "EAenTwTO4uTZ"
      },
      "execution_count": 3,
      "outputs": []
    },
    {
      "cell_type": "markdown",
      "source": [
        "(Brute force implementation)"
      ],
      "metadata": {
        "id": "IbqpcNVm5MEx"
      }
    },
    {
      "cell_type": "code",
      "source": [
        "ns = [0, 138659, 13045583, 89520689, 1210605589, 4199678809, 10804344527, 57881082689, 126695222113, 208194176089]\n",
        "ts = []\n",
        "\n",
        "for n in ns:\n",
        "  t1 = time.time()\n",
        "  print(RSA_factor(n))\n",
        "  t2 = time.time()\n",
        "  ts.append(t2 - t1)\n",
        "  print(\"Factoring takes {:.10f} seconds\".format(t2 - t1))"
      ],
      "metadata": {
        "colab": {
          "base_uri": "https://localhost:8080/"
        },
        "id": "a87f7PRL5VR5",
        "outputId": "476821eb-cdaa-4af1-8c93-7576afe7236a"
      },
      "execution_count": 4,
      "outputs": [
        {
          "output_type": "stream",
          "name": "stdout",
          "text": [
            "(0, 0)\n",
            "Factoring takes 0.0042920113 seconds\n",
            "(443, 313)\n",
            "Factoring takes 0.0000863075 seconds\n",
            "(3643, 3581)\n",
            "Factoring takes 0.0005519390 seconds\n",
            "(9721, 9209)\n",
            "Factoring takes 0.0029475689 seconds\n",
            "(35089, 34501)\n",
            "Factoring takes 0.0153429508 seconds\n",
            "(64901, 64709)\n",
            "Factoring takes 0.0201127529 seconds\n",
            "(104047, 103841)\n",
            "Factoring takes 0.0266330242 seconds\n",
            "(240829, 240341)\n",
            "Factoring takes 0.0562183857 seconds\n",
            "(356387, 355499)\n",
            "Factoring takes 0.0901088715 seconds\n",
            "(456283, 456283)\n",
            "Factoring takes 0.1133098602 seconds\n"
          ]
        }
      ]
    },
    {
      "cell_type": "markdown",
      "source": [
        "Finding the time it takes to factor ns of different magnitudes (added (0,0) because factoring the first number was iffy)."
      ],
      "metadata": {
        "id": "tqJRGnWh65D-"
      }
    },
    {
      "cell_type": "code",
      "source": [
        "ns = ns[1:]\n",
        "ts = ts[1:]\n",
        "\n",
        "data = {'n' : np.asarray(ns),\n",
        "     't' : np.asarray(ts)}\n",
        "\n",
        "df = pd.DataFrame(data)\n",
        "df.set_index('n')\n",
        "\n",
        "\n",
        "plt.scatter(df['n'], df['t'])\n",
        "plt.xlabel(\"Public Key (N/Hundreds of Billion)\")\n",
        "plt.ylabel(\"Time (sec)\")\n",
        "\n",
        "plt.show()"
      ],
      "metadata": {
        "colab": {
          "base_uri": "https://localhost:8080/",
          "height": 279
        },
        "id": "LaBsq0267Ggt",
        "outputId": "9591aa3d-5664-4717-cd78-3ea9748d3128"
      },
      "execution_count": 5,
      "outputs": [
        {
          "output_type": "display_data",
          "data": {
            "image/png": "[encoded data removed]",
            "text/plain": [
              "<Figure size 432x288 with 1 Axes>"
            ]
          },
          "metadata": {
            "needs_background": "light"
          }
        }
      ]
    },
    {
      "cell_type": "markdown",
      "source": [
        "Comparing the time taken to factor the ns to the magnitude of the number. "
      ],
      "metadata": {
        "id": "wIPm309m__h7"
      }
    }
  ]
}