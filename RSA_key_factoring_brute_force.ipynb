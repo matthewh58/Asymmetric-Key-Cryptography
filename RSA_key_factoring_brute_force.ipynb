{
  "nbformat": 4,
  "nbformat_minor": 0,
  "metadata": {
    "colab": {
      "name": "RSA_key_factoring_brute_force.ipynb",
      "provenance": [],
      "collapsed_sections": []
    },
    "kernelspec": {
      "name": "python3",
      "display_name": "Python 3"
    },
    "language_info": {
      "name": "python"
    }
  },
  "cells": [
    {
      "cell_type": "code",
      "execution_count": 11,
      "metadata": {
        "id": "Kmx_DOLi4fYu"
      },
      "outputs": [],
      "source": [
        "from math import ceil\n",
        "import time\n",
        "import pandas as pd\n",
        "import numpy as np"
      ]
    },
    {
      "cell_type": "code",
      "source": [
        "%matplotlib inline"
      ],
      "metadata": {
        "id": "WMrctXm47L2j"
      },
      "execution_count": 8,
      "outputs": []
    },
    {
      "cell_type": "markdown",
      "source": [
        "We want to factor an RSA public key component (n) into two prime numbers (p, q)."
      ],
      "metadata": {
        "id": "0a4blgPu4xbB"
      }
    },
    {
      "cell_type": "code",
      "source": [
        "def RSA_factor(n):\n",
        "    p = 0\n",
        "    q = 0\n",
        "    for x in range(2, ceil(n/2)):\n",
        "        if n % x == 0:\n",
        "            p = n // x\n",
        "            q = x\n",
        "            break\n",
        "    return p, q"
      ],
      "metadata": {
        "id": "EAenTwTO4uTZ"
      },
      "execution_count": 2,
      "outputs": []
    },
    {
      "cell_type": "markdown",
      "source": [
        "(Brute force implementation)"
      ],
      "metadata": {
        "id": "IbqpcNVm5MEx"
      }
    },
    {
      "cell_type": "code",
      "source": [
        "ns = [138659, 13045583, 89520689]\n",
        "ts = []\n",
        "\n",
        "for n in ns:\n",
        "  t1 = time.time()\n",
        "  print(RSA_factor(n))\n",
        "  t2 = time.time()\n",
        "  ts.append(t2 - t1)\n",
        "  print(\"Factoring takes {:.10f} seconds\".format(t2 - t1))"
      ],
      "metadata": {
        "colab": {
          "base_uri": "https://localhost:8080/"
        },
        "id": "a87f7PRL5VR5",
        "outputId": "97765a5a-100a-47e0-f2ef-b1227b92b3e7"
      },
      "execution_count": 7,
      "outputs": [
        {
          "output_type": "stream",
          "name": "stdout",
          "text": [
            "(443, 313)\n",
            "Factoring takes 0.0009260178 seconds\n",
            "(3643, 3581)\n",
            "Factoring takes 0.0020017624 seconds\n",
            "(9721, 9209)\n",
            "Factoring takes 0.0025634766 seconds\n"
          ]
        }
      ]
    },
    {
      "cell_type": "markdown",
      "source": [
        "Comparing the time it takes to factor ns of different magnitude."
      ],
      "metadata": {
        "id": "tqJRGnWh65D-"
      }
    },
    {
      "cell_type": "code",
      "source": [
        "\n",
        "data = {'n' : np.asarray(ns),\n",
        "     't' : np.asarray(ts)}\n",
        "\n",
        "df = pd.DataFrame(data)\n",
        "\n",
        "df.plot(style=['o','rx'])"
      ],
      "metadata": {
        "colab": {
          "base_uri": "https://localhost:8080/",
          "height": 293
        },
        "id": "LaBsq0267Ggt",
        "outputId": "de2749d5-e707-4876-fad5-fc1e8e61fb26"
      },
      "execution_count": 14,
      "outputs": [
        {
          "output_type": "execute_result",
          "data": {
            "text/plain": [
              "<matplotlib.axes._subplots.AxesSubplot at 0x7fb91fc99ed0>"
            ]
          },
          "metadata": {},
          "execution_count": 14
        },
        {
          "output_type": "display_data",
          "data": {
            "image/png": "[encoded data removed]",
            "text/plain": [
              "<Figure size 432x288 with 1 Axes>"
            ]
          },
          "metadata": {
            "needs_background": "light"
          }
        }
      ]
    }
  ]
}